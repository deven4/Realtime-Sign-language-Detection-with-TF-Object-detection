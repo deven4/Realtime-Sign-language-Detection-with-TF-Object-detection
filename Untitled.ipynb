{
 "cells": [
  {
   "cell_type": "markdown",
   "id": "0778b3d9-1769-41a3-b481-1db6abeae344",
   "metadata": {},
   "source": [
    "### Importing necessary libraries"
   ]
  },
  {
   "cell_type": "code",
   "execution_count": 31,
   "id": "8fe1511f-b566-46e7-9ff0-8e412316292d",
   "metadata": {},
   "outputs": [],
   "source": [
    "import cv2 \n",
    "import uuid\n",
    "import os\n",
    "import time\n",
    "import numpy as np"
   ]
  },
  {
   "cell_type": "code",
   "execution_count": 39,
   "id": "92c3c28f-1829-414e-bd2d-76ef9cf751ac",
   "metadata": {},
   "outputs": [],
   "source": [
    "IMAGES_PATH = \"Tensorflow/workspace/images/collectedImages\""
   ]
  },
  {
   "cell_type": "code",
   "execution_count": 18,
   "id": "28d774b9-fc97-4458-ab66-18d029163aac",
   "metadata": {},
   "outputs": [],
   "source": [
    "labels = [\"Hello\",\"Thank you\",\"Yes\",\"No\",\"I Love You\"]\n",
    "num_images = 15 # No of images per class of label"
   ]
  },
  {
   "cell_type": "markdown",
   "id": "ea2ee099-bd5a-427d-9578-0ccc3f47b918",
   "metadata": {},
   "source": [
    "### Capturing Images for Dataset"
   ]
  },
  {
   "cell_type": "code",
   "execution_count": 45,
   "id": "4cfa09f8-f509-465c-a8b7-547326d72feb",
   "metadata": {
    "tags": []
   },
   "outputs": [],
   "source": [
    "def image_resize(image, width = None, height = None, inter = cv2.INTER_AREA):\n",
    "    # initialize the dimensions of the image to be resized and\n",
    "    # grab the image size\n",
    "    dim = None\n",
    "    (h, w) = image.shape[:2]\n",
    "\n",
    "    # if both the width and height are None, then return the\n",
    "    # original image\n",
    "    if width is None and height is None:\n",
    "        return image\n",
    "\n",
    "    # check to see if the width is None\n",
    "    if width is None:\n",
    "        # calculate the ratio of the height and construct the\n",
    "        # dimensions\n",
    "        r = height / float(h)\n",
    "        dim = (int(w * r), height)\n",
    "\n",
    "    # otherwise, the height is None\n",
    "    else:\n",
    "        # calculate the ratio of the width and construct the\n",
    "        # dimensions\n",
    "        r = width / float(w)\n",
    "        dim = (width, int(h * r))\n",
    "\n",
    "    # resize the image\n",
    "    resized = cv2.resize(image, dim, interpolation = inter)\n",
    "\n",
    "    # return the resized image\n",
    "    return remove_black_borders(resized)\n",
    "\n",
    "def remove_black_borders(image):\n",
    "    y_nonzero, x_nonzero, _ = np.nonzero(image)\n",
    "    return image[np.min(y_nonzero):np.max(y_nonzero), np.min(x_nonzero):np.max(x_nonzero)]"
   ]
  },
  {
   "cell_type": "code",
   "execution_count": 57,
   "id": "9f11b77c-02ee-44e7-969b-9ce59c5aca31",
   "metadata": {
    "tags": []
   },
   "outputs": [
    {
     "name": "stderr",
     "output_type": "stream",
     "text": [
      "A subdirectory or file Tensorflow\\workspace\\images\\collectedImages already exists.\n"
     ]
    }
   ],
   "source": [
    "cap = cv2.VideoCapture(1)\n",
    "!mkdir {'Tensorflow\\workspace\\images\\collectedImages'}\n",
    "imgName = os.path.join(IMAGES_PATH, 'madarchod2.jpg')\n",
    "while True:\n",
    "    ret, img = cap.read()\n",
    "    # img = remove_black_borders(img)\n",
    "    # img = image_resize(img, width=841, height=631)\n",
    "    # gray = cv2.cvtColor(frame, cv2.COLOR_BGR2GRAY)\n",
    "    img = cv2.rotate(img, cv2.ROTATE_90_COUNTERCLOCKWISE)\n",
    "    cv2.imshow('Frame',img)\n",
    "    if cv2.waitKey(1) == ord('q'):\n",
    "        cv2.imwrite(imgName,img)\n",
    "        break\n",
    "cap.release()\n",
    "cv2.destroyAllWindows()"
   ]
  }
 ],
 "metadata": {
  "kernelspec": {
   "display_name": "Python 3 (ipykernel)",
   "language": "python",
   "name": "python3"
  },
  "language_info": {
   "codemirror_mode": {
    "name": "ipython",
    "version": 3
   },
   "file_extension": ".py",
   "mimetype": "text/x-python",
   "name": "python",
   "nbconvert_exporter": "python",
   "pygments_lexer": "ipython3",
   "version": "3.9.12"
  }
 },
 "nbformat": 4,
 "nbformat_minor": 5
}
